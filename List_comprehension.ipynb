{
 "cells": [
  {
   "cell_type": "markdown",
   "metadata": {},
   "source": [
    "## Introduction to List Comprehensions\n",
    "\n",
    "List comprehensions are used for creating new lists from other iterables like strings, list, tuples, arrays etc. A list comprehension consists of brackets containing the expression, which is executed for each element along with the for loop to iterate over each element. The syntax is **[expression for item in list].**\n",
    "\n",
    "### Advantages\n",
    "\n",
    "1. It time and space efficient than loops\n",
    "2. It requires fewer lines of code"
   ]
  },
  {
   "cell_type": "code",
   "execution_count": 13,
   "metadata": {},
   "outputs": [
    {
     "name": "stdout",
     "output_type": "stream",
     "text": [
      "['F', 'a', 'l', 'e', 'y', 'e']\n"
     ]
    }
   ],
   "source": [
    "# iterate through a string using loop\n",
    "first_name = []\n",
    "for name in \"Faleye\":\n",
    "    first_name.append(name)\n",
    "print(first_name)"
   ]
  },
  {
   "cell_type": "code",
   "execution_count": 14,
   "metadata": {},
   "outputs": [
    {
     "name": "stdout",
     "output_type": "stream",
     "text": [
      "['F', 'a', 'l', 'e', 'y', 'e']\n"
     ]
    }
   ],
   "source": [
    "first_name = [name for name in \"Faleye\"]\n",
    "print(first_name)"
   ]
  },
  {
   "cell_type": "markdown",
   "metadata": {},
   "source": [
    "## List Comprehension: Filtering "
   ]
  },
  {
   "cell_type": "markdown",
   "metadata": {},
   "source": [
    "### Using conditional statement \n",
    "The syntax is: **[expression for item in list condition]**"
   ]
  },
  {
   "cell_type": "code",
   "execution_count": 15,
   "metadata": {},
   "outputs": [
    {
     "name": "stdout",
     "output_type": "stream",
     "text": [
      "[0, 2, 4, 6, 8, 10, 12, 14, 16, 18]\n"
     ]
    }
   ],
   "source": [
    "number_list = [x for x in range(20) if x % 2 == 0]\n",
    "print(number_list)"
   ]
  },
  {
   "cell_type": "markdown",
   "metadata": {},
   "source": [
    "### Nested IF with List Comprehension"
   ]
  },
  {
   "cell_type": "code",
   "execution_count": 28,
   "metadata": {},
   "outputs": [
    {
     "name": "stdout",
     "output_type": "stream",
     "text": [
      "[0, 20, 40, 60, 80, 100, 120, 140, 160, 180]\n"
     ]
    }
   ],
   "source": [
    "number_list = [x*2 for x in range(100) if x % 2 == 0 if x % 5 == 0]\n",
    "print(number_list)"
   ]
  },
  {
   "cell_type": "code",
   "execution_count": 17,
   "metadata": {},
   "outputs": [
    {
     "data": {
      "text/plain": [
       "[(3, 'Apple'),\n",
       " (3, 'Orange'),\n",
       " (3, 'Mango'),\n",
       " (3, 'Pear'),\n",
       " (4, 'Apple'),\n",
       " (4, 'Orange'),\n",
       " (4, 'Mango'),\n",
       " (4, 'Pear')]"
      ]
     },
     "execution_count": 17,
     "metadata": {},
     "output_type": "execute_result"
    }
   ],
   "source": [
    "number = [1,2,3,4]\n",
    "fruit = [\"Apple\",\"Orange\",\"Mango\",\"Pear\"]\n",
    "[(i, f) for i in number if i > 2 for f in fruit]"
   ]
  },
  {
   "cell_type": "code",
   "execution_count": 18,
   "metadata": {},
   "outputs": [
    {
     "name": "stdout",
     "output_type": "stream",
     "text": [
      "2 Apple\n",
      "2 Orange\n",
      "2 Mango\n",
      "4 Apple\n",
      "4 Orange\n",
      "4 Mango\n"
     ]
    }
   ],
   "source": [
    "number = [1,2,3,4]\n",
    "fruit = [\"Apple\",\"Orange\",\"Mango\",\"Pear\"]\n",
    "\n",
    "for i in number:\n",
    "    if i > 1:\n",
    "        if i != 3:\n",
    "            for f in fruit:\n",
    "                if f != \"Pear\":\n",
    "                    print(i, f)"
   ]
  },
  {
   "cell_type": "code",
   "execution_count": 57,
   "metadata": {},
   "outputs": [
    {
     "data": {
      "text/plain": [
       "[(2, 'Apple'),\n",
       " (2, 'Orange'),\n",
       " (2, 'Mango'),\n",
       " (4, 'Apple'),\n",
       " (4, 'Orange'),\n",
       " (4, 'Mango')]"
      ]
     },
     "execution_count": 57,
     "metadata": {},
     "output_type": "execute_result"
    }
   ],
   "source": [
    "new_list = []\n",
    "new_list = [(i,f) for i in number if i > 1 if i != 3 for f in fruit if f != \"Pear\"]\n",
    "new_list"
   ]
  },
  {
   "cell_type": "code",
   "execution_count": 61,
   "metadata": {},
   "outputs": [
    {
     "name": "stdout",
     "output_type": "stream",
     "text": [
      "2 Apple\n",
      "2 Mango\n",
      "4 Apple\n",
      "4 Mango\n"
     ]
    }
   ],
   "source": [
    "number = [1,2,3,4]\n",
    "fruit = [\"Apple\",\"Orange\",\"Mango\",\"Pear\"]\n",
    "\n",
    "for i in number:\n",
    "    if i > 1:\n",
    "        if i != 3:\n",
    "            for f in fruit:\n",
    "                if f != \"Pear\" and f != \"Orange\":\n",
    "                    print(i, f)"
   ]
  },
  {
   "cell_type": "markdown",
   "metadata": {},
   "source": [
    "### IF ELSE with List Comprehension"
   ]
  },
  {
   "cell_type": "code",
   "execution_count": 20,
   "metadata": {},
   "outputs": [
    {
     "name": "stdout",
     "output_type": "stream",
     "text": [
      "['YES', 'NO', 'YES', 'NO', 'YES', 'NO', 'YES', 'NO', 'YES', 'NO', 'YES', 'NO', 'YES', 'NO', 'YES', 'NO', 'YES', 'NO', 'YES', 'NO']\n"
     ]
    }
   ],
   "source": [
    "num_list = [\"YES\" if i % 2 == 0 else \"NO\" for i in range(20)]\n",
    "print(num_list)"
   ]
  },
  {
   "cell_type": "markdown",
   "metadata": {},
   "source": [
    "### Nested List Comprehension\n",
    "\n",
    "This is a list comprehension within an existing list comprehension just like nested loop."
   ]
  },
  {
   "cell_type": "code",
   "execution_count": 23,
   "metadata": {},
   "outputs": [
    {
     "name": "stdout",
     "output_type": "stream",
     "text": [
      "[[0, 1, 2, 3], [0, 1, 2, 3], [0, 1, 2, 3], [0, 1, 2, 3]]\n"
     ]
    }
   ],
   "source": [
    "matrix = []\n",
    "\n",
    "for i in range(4):\n",
    "    matrix.append([])\n",
    "    \n",
    "    for j in range(4):\n",
    "        matrix[i].append(j)\n",
    "\n",
    "print(matrix)"
   ]
  },
  {
   "cell_type": "code",
   "execution_count": 24,
   "metadata": {},
   "outputs": [
    {
     "data": {
      "text/plain": [
       "[[0, 1, 2, 3], [0, 1, 2, 3], [0, 1, 2, 3], [0, 1, 2, 3]]"
      ]
     },
     "execution_count": 24,
     "metadata": {},
     "output_type": "execute_result"
    }
   ],
   "source": [
    "matrix = [[j for j in range(4)] for i in range(4)]\n",
    "matrix"
   ]
  },
  {
   "cell_type": "code",
   "execution_count": 25,
   "metadata": {},
   "outputs": [
    {
     "data": {
      "text/plain": [
       "3"
      ]
     },
     "execution_count": 25,
     "metadata": {},
     "output_type": "execute_result"
    }
   ],
   "source": [
    "matrix[2][3]"
   ]
  },
  {
   "cell_type": "markdown",
   "metadata": {},
   "source": [
    "### Reverse each string in a tuple"
   ]
  },
  {
   "cell_type": "code",
   "execution_count": 33,
   "metadata": {},
   "outputs": [
    {
     "name": "stdout",
     "output_type": "stream",
     "text": [
      "['olleH', '!dlroW']\n"
     ]
    }
   ],
   "source": [
    "List = [string[::-1] for string in (\"Hello\", \"World!\")]\n",
    "print(List)"
   ]
  },
  {
   "cell_type": "code",
   "execution_count": 38,
   "metadata": {},
   "outputs": [
    {
     "name": "stdout",
     "output_type": "stream",
     "text": [
      "[2, 6, 10, 14, 18]\n"
     ]
    }
   ],
   "source": [
    "odd_square = []\n",
    "for x in range(11):\n",
    "    if x % 2 == 1:\n",
    "        odd_square.append(x*2)\n",
    "print(odd_square)"
   ]
  },
  {
   "cell_type": "code",
   "execution_count": 40,
   "metadata": {},
   "outputs": [
    {
     "data": {
      "text/plain": [
       "[2, 6, 10, 14, 18]"
      ]
     },
     "execution_count": 40,
     "metadata": {},
     "output_type": "execute_result"
    }
   ],
   "source": [
    "odd_square = [x*2 for x in range(11) if x % 2 == 1]\n",
    "odd_square"
   ]
  },
  {
   "cell_type": "markdown",
   "metadata": {},
   "source": [
    "### List comprehension with functions"
   ]
  },
  {
   "cell_type": "code",
   "execution_count": 42,
   "metadata": {},
   "outputs": [
    {
     "name": "stdout",
     "output_type": "stream",
     "text": [
      "['1', '1', '1', '2', '2']\n"
     ]
    }
   ],
   "source": [
    "string = \"my phone number is : 11122 !!\"\n",
    "number = []\n",
    "for i in string:\n",
    "    if i.isdigit():\n",
    "        number.append(i)\n",
    "print(number)\n",
    "        "
   ]
  },
  {
   "cell_type": "code",
   "execution_count": 63,
   "metadata": {},
   "outputs": [
    {
     "data": {
      "text/plain": [
       "['F', 'A', 'L', 'E', 'Y', 'E']"
      ]
     },
     "execution_count": 63,
     "metadata": {},
     "output_type": "execute_result"
    }
   ],
   "source": [
    "First_name = [x.upper() for x in \"faleye\"]\n",
    "First_name"
   ]
  },
  {
   "cell_type": "code",
   "execution_count": 58,
   "metadata": {},
   "outputs": [
    {
     "data": {
      "text/plain": [
       "['APPLE', 'ORANGE', 'PEAR']"
      ]
     },
     "execution_count": 58,
     "metadata": {},
     "output_type": "execute_result"
    }
   ],
   "source": [
    "number = [1,2,3,4]\n",
    "fruit = [\"Apple\",\"Orange\",\"Mango\",\"Pear\"]\n",
    "new_list = [f.upper() for f in fruit if \"e\" in f]\n",
    "new_list"
   ]
  },
  {
   "cell_type": "code",
   "execution_count": null,
   "metadata": {},
   "outputs": [],
   "source": []
  }
 ],
 "metadata": {
  "kernelspec": {
   "display_name": "Python 3",
   "language": "python",
   "name": "python3"
  },
  "language_info": {
   "codemirror_mode": {
    "name": "ipython",
    "version": 3
   },
   "file_extension": ".py",
   "mimetype": "text/x-python",
   "name": "python",
   "nbconvert_exporter": "python",
   "pygments_lexer": "ipython3",
   "version": "3.7.6"
  }
 },
 "nbformat": 4,
 "nbformat_minor": 4
}
