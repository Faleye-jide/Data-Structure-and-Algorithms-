{
 "cells": [
  {
   "cell_type": "markdown",
   "metadata": {},
   "source": [
    "## Object Oriented Programming\n",
    "\n",
    "Object-oriented programming (OOP) is a programming paradigm based on the concept of \"objects\", which may contain data, in the form of fields, often known as attributes; and code, in the form of procedures, often known as methods.\n",
    "\n",
    "1. Class \n",
    "\n",
    "This is a user-defined prototype from which an objects are created.\n",
    "\n",
    "2. Object \n",
    "\n",
    "Object is an instance of a class."
   ]
  },
  {
   "cell_type": "code",
   "execution_count": 9,
   "metadata": {},
   "outputs": [
    {
     "name": "stdout",
     "output_type": "stream",
     "text": [
      "I am Jide, 27 years old and Male\n",
      "Jide\n"
     ]
    },
    {
     "data": {
      "text/plain": [
       "600000"
      ]
     },
     "execution_count": 9,
     "metadata": {},
     "output_type": "execute_result"
    }
   ],
   "source": [
    "# Creating a class \n",
    "\n",
    "class Person:\n",
    "    def __init__(self, name, age, gender, amount, days):\n",
    "        self.name = name \n",
    "        self.age = age \n",
    "        self.gender = gender\n",
    "        self.amount = amount \n",
    "        self.days = days \n",
    "        \n",
    "    \n",
    "    def info(self):\n",
    "        print(f\"I am {self.name}, {self.age} years old and {self.gender}\")\n",
    "        \n",
    "    def salary(self):\n",
    "        return (self.amount * self.days)\n",
    "        \n",
    "\n",
    "p = Person(\"Jide\", 27, \"Male\", 20000, 30)\n",
    "p.info()\n",
    "print(p.name)\n",
    "p.salary()"
   ]
  },
  {
   "cell_type": "markdown",
   "metadata": {},
   "source": [
    "we were able to create a Person class with all the attributes considering some class methods. This is just to show how to create a class."
   ]
  },
  {
   "cell_type": "markdown",
   "metadata": {},
   "source": [
    "### Inheritance \n",
    "\n",
    "Inheritance is the capability of a class to derive or inherit the properties of another class. In this OOP concept, one class will serve as the generalized or super class and all other subsequent classes will be child or sub classes. The advantages of using inheritance are as follows:\n",
    "\n",
    "* It provides reusability of a code i.e it doesnt require to spend more time rewritting codes\n",
    "* It represents real world respresentation\n",
    "* it is transistive in nature. In order words, if class A derives the properties of another class B then all the subclasses of class A would automatically inherit from class B."
   ]
  },
  {
   "cell_type": "markdown",
   "metadata": {},
   "source": [
    "Lets use the class example in previous code."
   ]
  },
  {
   "cell_type": "code",
   "execution_count": 20,
   "metadata": {},
   "outputs": [
    {
     "data": {
      "text/plain": [
       "'IG10 4NX'"
      ]
     },
     "execution_count": 20,
     "metadata": {},
     "output_type": "execute_result"
    }
   ],
   "source": [
    "class Person:\n",
    "    def __init__(self, name, age, gender, salary):\n",
    "        self.name = name \n",
    "        self.age = age \n",
    "        self.gender = gender\n",
    "        self.salary = salary\n",
    "        \n",
    "    def get_the_salary(self):\n",
    "        return self.salary\n",
    "    \n",
    "\n",
    "class Employee(Person):\n",
    "    def __init__(self, name, age, gender,salary, ID, post_code):\n",
    "        super().__init__(name, age, gender, salary)\n",
    "        self.ID = ID\n",
    "        self.post_code = post_code \n",
    "        \n",
    "    def get_the_address(self):\n",
    "        return self.post_code\n",
    "    \n",
    "\n",
    "class Company(Person):\n",
    "    def __init__(self, name, age, gender, ID, post_code, street, county):\n",
    "        super().__init__(name, age, gender)\n",
    "        self.ID = ID\n",
    "        self.post_code = post_code\n",
    "        self.street = street\n",
    "        self.county = county\n",
    "        \n",
    "    def get_the_region(self):\n",
    "        return self.county\n",
    "    \n",
    "p = Person(\"The Mellows\", 10, \"Male\", 700)\n",
    "e = Employee(\"Jide\", 27, \"Male\",7000, 20, \"IG10 4NX\")\n",
    "e.get_the_address()"
   ]
  },
  {
   "cell_type": "markdown",
   "metadata": {},
   "source": [
    "### Class and Static  Methods \n",
    "\n",
    "Class Method \n",
    "\n",
    "This is a method that is bound or specific to the class not to the object of the class. It recieves class as implicit first argument. @classmethod decorator is used to define a class method. Class method is used to access and modify the state of a class. Also, it is used to create factory methods.\n",
    "\n",
    "Static Method\n",
    "\n",
    "This is bound to the class not to the object of the class. It doesnt change the state of class. It is created with @staticmethod decorator."
   ]
  },
  {
   "cell_type": "code",
   "execution_count": 23,
   "metadata": {},
   "outputs": [
    {
     "name": "stdout",
     "output_type": "stream",
     "text": [
      "27\n",
      "1994\n",
      "True\n"
     ]
    }
   ],
   "source": [
    "class Person:\n",
    "    def __init__(self, name, age): \n",
    "        self.name = name \n",
    "        self.age = age \n",
    "       \n",
    "    # a class method to create a Person object by birth year. \n",
    "    @classmethod\n",
    "    def fromBirthYear(cls, name, year): \n",
    "        return cls(name, date.today().year - year) \n",
    "       \n",
    "    # a static method to check if a Person is adult or not. \n",
    "    @staticmethod\n",
    "    def isAdult(age): \n",
    "        return age > 18\n",
    "    \n",
    "p1 = Person(\"jide\", 27)\n",
    "p2 = Person(\"jide\", 1994)\n",
    "\n",
    "print(p1.age)\n",
    "print(p2.age)\n",
    "\n",
    "print(Person.isAdult(22))"
   ]
  },
  {
   "cell_type": "code",
   "execution_count": null,
   "metadata": {},
   "outputs": [],
   "source": []
  }
 ],
 "metadata": {
  "kernelspec": {
   "display_name": "Python 3",
   "language": "python",
   "name": "python3"
  },
  "language_info": {
   "codemirror_mode": {
    "name": "ipython",
    "version": 3
   },
   "file_extension": ".py",
   "mimetype": "text/x-python",
   "name": "python",
   "nbconvert_exporter": "python",
   "pygments_lexer": "ipython3",
   "version": "3.7.6"
  }
 },
 "nbformat": 4,
 "nbformat_minor": 4
}
